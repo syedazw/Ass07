{
 "cells": [
  {
   "cell_type": "code",
   "execution_count": 25,
   "id": "cad6f2e3-1a5c-4590-8b9a-2411ea6f898f",
   "metadata": {},
   "outputs": [],
   "source": [
    "class Employee:\n",
    "    def __init__(self,name, number, address, salary, post, year_of_joining, education, year_of_experience):\n",
    "        self.name = name\n",
    "        self.number = number\n",
    "        self.address = address\n",
    "        self.salary = salary\n",
    "        self.post = post\n",
    "        self.year_of_joining = year_of_joining\n",
    "        self.education = education\n",
    "        self.year_of_experience = year_of_experience\n",
    "\n",
    "    def describe_employee(self):\n",
    "        print(\"==============Employee Details==================\")\n",
    "        print(f\"Name: {self.name}\\nAddress: {self.address}\\nPhone Number: {self.number}\\nEducation: {self.education}\\nPost: {self.post}\\nSalary: {self.salary}\\nJoining Year: {self.year_of_joining}\\nYear of Experience: {self.year_of_experience}\")\n",
    "        \n",
    "    def update_year_of_experience(self, updated_experience):\n",
    "        self.year_of_experience = updated_experience\n",
    "        print(f\"{self.name}'s experience after updation is {self.year_of_experience}\")\n",
    "        \n",
    "    def increase_salary(self):\n",
    "        input_inc_sal = int(input(\"Enter increment in Salary\"))\n",
    "        inc_sal = self.salary + input_inc_sal\n",
    "        return inc_sal\n",
    "\n",
    "employee101 = Employee(\"Ahad\",\"+92-0567866465\",\"Malir, Karachi\", 50000, \"BA\", 2018, \"Graduated\", \"2 yrs\")"
   ]
  },
  {
   "cell_type": "code",
   "execution_count": 26,
   "id": "3acebf7b-e79c-4d21-a9da-d1a52e3f1527",
   "metadata": {},
   "outputs": [
    {
     "data": {
      "text/plain": [
       "'Ahad'"
      ]
     },
     "execution_count": 26,
     "metadata": {},
     "output_type": "execute_result"
    }
   ],
   "source": [
    "employee101.name"
   ]
  },
  {
   "cell_type": "code",
   "execution_count": 27,
   "id": "ceeeb238-014b-4445-ba4f-e190f2407e90",
   "metadata": {},
   "outputs": [
    {
     "data": {
      "text/plain": [
       "'Malir, Karachi'"
      ]
     },
     "execution_count": 27,
     "metadata": {},
     "output_type": "execute_result"
    }
   ],
   "source": [
    "employee101.address"
   ]
  },
  {
   "cell_type": "code",
   "execution_count": 28,
   "id": "d82bbaca-65be-485f-9c68-2aa074026697",
   "metadata": {},
   "outputs": [
    {
     "data": {
      "text/plain": [
       "'BA'"
      ]
     },
     "execution_count": 28,
     "metadata": {},
     "output_type": "execute_result"
    }
   ],
   "source": [
    "employee101.post"
   ]
  },
  {
   "cell_type": "code",
   "execution_count": 29,
   "id": "84125e0d-57da-4cf8-9987-56730e84b08f",
   "metadata": {},
   "outputs": [
    {
     "data": {
      "text/plain": [
       "50000"
      ]
     },
     "execution_count": 29,
     "metadata": {},
     "output_type": "execute_result"
    }
   ],
   "source": [
    "employee101.salary"
   ]
  },
  {
   "cell_type": "code",
   "execution_count": 30,
   "id": "67d8a3cd-6cca-4ff9-98f6-c200063d72a0",
   "metadata": {},
   "outputs": [
    {
     "name": "stdout",
     "output_type": "stream",
     "text": [
      "==============Employee Details==================\n",
      "Name: Ahad\n",
      "Address: Malir, Karachi\n",
      "Phone Number: +92-0567866465\n",
      "Education: Graduated\n",
      "Post: BA\n",
      "Salary: 50000\n",
      "Joining Year: 2018\n",
      "Year of Experience: 2 yrs\n"
     ]
    }
   ],
   "source": [
    "employee101.describe_employee()"
   ]
  },
  {
   "cell_type": "code",
   "execution_count": 18,
   "id": "11710d76-7a23-4cd4-bf47-1a8f4577a8b3",
   "metadata": {},
   "outputs": [
    {
     "name": "stdin",
     "output_type": "stream",
     "text": [
      "Enter increment in Salary 2000\n"
     ]
    },
    {
     "data": {
      "text/plain": [
       "52000"
      ]
     },
     "execution_count": 18,
     "metadata": {},
     "output_type": "execute_result"
    }
   ],
   "source": [
    "employee101.increase_salary()"
   ]
  },
  {
   "cell_type": "code",
   "execution_count": 20,
   "id": "67b52cb1-70c6-43ff-8b89-5dc05c995e27",
   "metadata": {},
   "outputs": [
    {
     "name": "stdout",
     "output_type": "stream",
     "text": [
      "Ahad's experience after updation is 5 yrs\n"
     ]
    }
   ],
   "source": [
    "employee101.update_year_of_experience(\"5 yrs\")"
   ]
  },
  {
   "cell_type": "markdown",
   "id": "93d7fe04-aab5-40d5-8989-99c79d111e7d",
   "metadata": {},
   "source": [
    "### Creating 10 different instances"
   ]
  },
  {
   "cell_type": "code",
   "execution_count": 43,
   "id": "ae96cd0a-dc27-4ee1-87ca-cdcc84e52c15",
   "metadata": {},
   "outputs": [],
   "source": [
    "employees = [Employee(\"Emp\"+str(i+1), f\"{9265676756+i}\", f\"Add{i+1}\", 25000+i*1000, \"Post\"+str(i+1), 2000+i, \"Deg\"+str(i+1), 1+i)\n",
    "            for i in range(10)]"
   ]
  },
  {
   "cell_type": "code",
   "execution_count": 49,
   "id": "77fc2a13-7753-4c64-882c-878c5711778b",
   "metadata": {},
   "outputs": [
    {
     "name": "stdout",
     "output_type": "stream",
     "text": [
      "==============Employee Details==================\n",
      "Name: Emp1\n",
      "Address: Add1\n",
      "Phone Number: 9265676756\n",
      "Education: Deg1\n",
      "Post: Post1\n",
      "Salary: 25000\n",
      "Joining Year: 2000\n",
      "Year of Experience: 1\n",
      "==============Employee Details==================\n",
      "Name: Emp2\n",
      "Address: Add2\n",
      "Phone Number: 9265676757\n",
      "Education: Deg2\n",
      "Post: Post2\n",
      "Salary: 26000\n",
      "Joining Year: 2001\n",
      "Year of Experience: 9\n",
      "==============Employee Details==================\n",
      "Name: Emp3\n",
      "Address: Add3\n",
      "Phone Number: 9265676758\n",
      "Education: Deg3\n",
      "Post: Post3\n",
      "Salary: 27000\n",
      "Joining Year: 2002\n",
      "Year of Experience: 3\n",
      "==============Employee Details==================\n",
      "Name: Emp4\n",
      "Address: Add4\n",
      "Phone Number: 9265676759\n",
      "Education: Deg4\n",
      "Post: Post4\n",
      "Salary: 28000\n",
      "Joining Year: 2003\n",
      "Year of Experience: 4\n",
      "==============Employee Details==================\n",
      "Name: Emp5\n",
      "Address: Add5\n",
      "Phone Number: 9265676760\n",
      "Education: Deg5\n",
      "Post: Post5\n",
      "Salary: 29000\n",
      "Joining Year: 2004\n",
      "Year of Experience: 5\n",
      "==============Employee Details==================\n",
      "Name: Emp6\n",
      "Address: Add6\n",
      "Phone Number: 9265676761\n",
      "Education: Deg6\n",
      "Post: Post6\n",
      "Salary: 30000\n",
      "Joining Year: 2005\n",
      "Year of Experience: 6\n",
      "==============Employee Details==================\n",
      "Name: Emp7\n",
      "Address: Add7\n",
      "Phone Number: 9265676762\n",
      "Education: Deg7\n",
      "Post: Post7\n",
      "Salary: 31000\n",
      "Joining Year: 2006\n",
      "Year of Experience: 7\n",
      "==============Employee Details==================\n",
      "Name: Emp8\n",
      "Address: Add8\n",
      "Phone Number: 9265676763\n",
      "Education: Deg8\n",
      "Post: Post8\n",
      "Salary: 32000\n",
      "Joining Year: 2007\n",
      "Year of Experience: 8\n",
      "==============Employee Details==================\n",
      "Name: Emp9\n",
      "Address: Add9\n",
      "Phone Number: 9265676764\n",
      "Education: Deg9\n",
      "Post: Post9\n",
      "Salary: 33000\n",
      "Joining Year: 2008\n",
      "Year of Experience: 9\n",
      "==============Employee Details==================\n",
      "Name: Emp10\n",
      "Address: Add10\n",
      "Phone Number: 9265676765\n",
      "Education: Deg10\n",
      "Post: Post10\n",
      "Salary: 34000\n",
      "Joining Year: 2009\n",
      "Year of Experience: 10\n"
     ]
    }
   ],
   "source": [
    "# Calling describe_employee() for each instance\n",
    "for employee in employees:\n",
    "    employee.describe_employee()"
   ]
  },
  {
   "cell_type": "markdown",
   "id": "a1cf4236-0fd3-4849-a742-396326179880",
   "metadata": {},
   "source": [
    "### Making updates with methods"
   ]
  },
  {
   "cell_type": "code",
   "execution_count": 47,
   "id": "b8683def-e06e-44af-9a2c-857bcc8acd80",
   "metadata": {},
   "outputs": [
    {
     "name": "stdin",
     "output_type": "stream",
     "text": [
      "Enter increment in Salary 1000\n"
     ]
    },
    {
     "data": {
      "text/plain": [
       "26000"
      ]
     },
     "execution_count": 47,
     "metadata": {},
     "output_type": "execute_result"
    }
   ],
   "source": [
    "employees[0].increase_salary()"
   ]
  },
  {
   "cell_type": "code",
   "execution_count": 48,
   "id": "9b67a693-45a5-4c0b-879e-b921be3f15f3",
   "metadata": {},
   "outputs": [
    {
     "name": "stdout",
     "output_type": "stream",
     "text": [
      "Emp2's experience after updation is 9\n"
     ]
    }
   ],
   "source": [
    "employees[1].update_year_of_experience(9)"
   ]
  },
  {
   "cell_type": "markdown",
   "id": "667c4c27-7e6b-49de-8408-7a941fca2a1d",
   "metadata": {},
   "source": [
    "# Without Using Classes"
   ]
  },
  {
   "cell_type": "code",
   "execution_count": 63,
   "id": "b3ee4de1-fb9b-46fa-ab0b-e5e3bbe3b872",
   "metadata": {},
   "outputs": [
    {
     "name": "stdout",
     "output_type": "stream",
     "text": [
      "Name: Waleed\n",
      "Address: Hyderabad\n",
      "Phone Number: +92-094678656\n",
      "\n",
      "===============Other Information=================\n",
      "{'education': 'Graduation', 'post': 'Manager', 'salary': 26000, 'joining_year': 2000, 'year_of_exp': 2}\n"
     ]
    }
   ],
   "source": [
    "def describe_employee(name, number, address, **detail):\n",
    "    print(f\"Name: {name}\\nAddress: {address}\\nPhone Number: {number}\")\n",
    "    print(\"\\n===============Other Information=================\")\n",
    "    print(detail)\n",
    "\n",
    "describe_employee(\"Waleed\",\"+92-094678656\",\"Hyderabad\", education= \"Graduation\", post= \"Manager\", salary= 26000, joining_year= 2000, year_of_exp= 2)"
   ]
  },
  {
   "cell_type": "code",
   "execution_count": 74,
   "id": "d1a86e9a-0e4e-40d8-8a9e-b8c3e212f89d",
   "metadata": {},
   "outputs": [],
   "source": [
    "# Creating a dictionary to store employee101 details\n",
    "emp101 = {\n",
    "    'name': 'Laiba',\n",
    "    'number': '+92-4678368734',\n",
    "    'address': '123 Street',\n",
    "    'salary': 50000,\n",
    "    'post': 'DA',\n",
    "    'year_of_joining': 2015,\n",
    "    'education': 'Masters in CS',\n",
    "    'year_of_experience': 7\n",
    "}"
   ]
  },
  {
   "cell_type": "code",
   "execution_count": 75,
   "id": "47fc6a1f-a8c5-4926-bb45-52f96b1fab1e",
   "metadata": {},
   "outputs": [
    {
     "name": "stdout",
     "output_type": "stream",
     "text": [
      "Laiba's experience updated to: 8 yrs\n"
     ]
    }
   ],
   "source": [
    "def update_year_of_experience(emp, new_experience):\n",
    "    emp['year_of_experience'] = new_experience\n",
    "    print(f\"{emp['name']}'s experience updated to: {emp['year_of_experience']} yrs\")\n",
    "\n",
    "update_year_of_experience(emp101, 8)"
   ]
  },
  {
   "cell_type": "code",
   "execution_count": 76,
   "id": "5c56ab3d-5d5b-4a83-aeb0-41da2222d214",
   "metadata": {},
   "outputs": [
    {
     "name": "stdout",
     "output_type": "stream",
     "text": [
      "Laiba's salary increased by 5000.\n",
      "New Salary: 55000\n"
     ]
    }
   ],
   "source": [
    "def increase_salary(employee, increment):\n",
    "    employee['salary'] += increment\n",
    "    print(f\"{employee['name']}'s salary increased by {increment}.\\nNew Salary: {employee['salary']}\")\n",
    "\n",
    "increase_salary(emp101, 5000)"
   ]
  },
  {
   "cell_type": "code",
   "execution_count": 97,
   "id": "adb8f223-7f9c-424d-a6c8-ce26254ce4ac",
   "metadata": {},
   "outputs": [
    {
     "name": "stdout",
     "output_type": "stream",
     "text": [
      "==================Employee Details==============\n",
      "Name: Emp1\n",
      "Address:Add1\n",
      "Phone Number: 92456465377\n",
      "Education: Deg1\n",
      "Post:Post1\n",
      "Salary: 25000\n",
      "Joining Year: 2010\n",
      "Year of Experience: 5\n",
      "==================Employee Details==============\n",
      "Name: Emp2\n",
      "Address:Add2\n",
      "Phone Number: 92456465378\n",
      "Education: Deg2\n",
      "Post:Post2\n",
      "Salary: 26000\n",
      "Joining Year: 2011\n",
      "Year of Experience: 6\n",
      "==================Employee Details==============\n",
      "Name: Emp3\n",
      "Address:Add3\n",
      "Phone Number: 92456465379\n",
      "Education: Deg3\n",
      "Post:Post3\n",
      "Salary: 27000\n",
      "Joining Year: 2012\n",
      "Year of Experience: 7\n",
      "==================Employee Details==============\n",
      "Name: Emp4\n",
      "Address:Add4\n",
      "Phone Number: 92456465380\n",
      "Education: Deg4\n",
      "Post:Post4\n",
      "Salary: 28000\n",
      "Joining Year: 2013\n",
      "Year of Experience: 8\n",
      "==================Employee Details==============\n",
      "Name: Emp5\n",
      "Address:Add5\n",
      "Phone Number: 92456465381\n",
      "Education: Deg5\n",
      "Post:Post5\n",
      "Salary: 29000\n",
      "Joining Year: 2014\n",
      "Year of Experience: 9\n",
      "==================Employee Details==============\n",
      "Name: Emp6\n",
      "Address:Add6\n",
      "Phone Number: 92456465382\n",
      "Education: Deg6\n",
      "Post:Post6\n",
      "Salary: 30000\n",
      "Joining Year: 2015\n",
      "Year of Experience: 10\n",
      "==================Employee Details==============\n",
      "Name: Emp7\n",
      "Address:Add7\n",
      "Phone Number: 92456465383\n",
      "Education: Deg7\n",
      "Post:Post7\n",
      "Salary: 31000\n",
      "Joining Year: 2016\n",
      "Year of Experience: 11\n",
      "==================Employee Details==============\n",
      "Name: Emp8\n",
      "Address:Add8\n",
      "Phone Number: 92456465384\n",
      "Education: Deg8\n",
      "Post:Post8\n",
      "Salary: 32000\n",
      "Joining Year: 2017\n",
      "Year of Experience: 12\n",
      "==================Employee Details==============\n",
      "Name: Emp9\n",
      "Address:Add9\n",
      "Phone Number: 92456465385\n",
      "Education: Deg9\n",
      "Post:Post9\n",
      "Salary: 33000\n",
      "Joining Year: 2018\n",
      "Year of Experience: 13\n",
      "==================Employee Details==============\n",
      "Name: Emp10\n",
      "Address:Add10\n",
      "Phone Number: 92456465386\n",
      "Education: Deg10\n",
      "Post:Post10\n",
      "Salary: 34000\n",
      "Joining Year: 2019\n",
      "Year of Experience: 14\n"
     ]
    }
   ],
   "source": [
    "employees = [\n",
    "    {\n",
    "        'name': \"Emp\" + str(i+1),\n",
    "        'number': f\"{92456465376+i+1}\",\n",
    "        'address': f\"Add{i+1}\",\n",
    "        'salary': 25000 + i*1000,\n",
    "        'post': \"Post\" + str(i+1),\n",
    "        'year_of_joining': 2010 + i,\n",
    "        'education': \"Deg\" + str(i+1),\n",
    "        'year_of_experience': 5 + i\n",
    "    }\n",
    "    for i in range(10)\n",
    "]\n",
    "\n",
    "def desc_emp(emp):\n",
    "    print(\"==================Employee Details==============\")\n",
    "    print(f\"Name: {emp['name']}\\nAddress:{emp['address']}\\nPhone Number: {emp['number']}\\nEducation: {emp['education']}\\nPost:{emp['post']}\\nSalary: {emp['salary']}\\nJoining Year: {emp['year_of_joining']}\\nYear of Experience: {emp['year_of_experience']}\")\n",
    "\n",
    "# Call describe_employee() for each instance\n",
    "for employee in employees:\n",
    "    desc_emp(employee)"
   ]
  },
  {
   "cell_type": "code",
   "execution_count": 94,
   "id": "9ae92ca2-efe3-4f8c-b9d6-d7d69616f4d9",
   "metadata": {},
   "outputs": [
    {
     "name": "stdout",
     "output_type": "stream",
     "text": [
      "Emp1's salary increased by 2000.\n",
      "New Salary: 44000\n"
     ]
    }
   ],
   "source": [
    "increase_salary(employees[0], 2000)"
   ]
  },
  {
   "cell_type": "code",
   "execution_count": 95,
   "id": "49074db7-dad7-4f09-a4bf-dce9ecf139af",
   "metadata": {},
   "outputs": [
    {
     "name": "stdout",
     "output_type": "stream",
     "text": [
      "Emp2's experience updated to: 9 yrs\n"
     ]
    }
   ],
   "source": [
    "update_year_of_experience(employees[1], 9)"
   ]
  },
  {
   "cell_type": "code",
   "execution_count": null,
   "id": "4e26e204-06cf-4940-b4e4-a956a3ad815e",
   "metadata": {},
   "outputs": [],
   "source": []
  }
 ],
 "metadata": {
  "kernelspec": {
   "display_name": "Python 3 (ipykernel)",
   "language": "python",
   "name": "python3"
  },
  "language_info": {
   "codemirror_mode": {
    "name": "ipython",
    "version": 3
   },
   "file_extension": ".py",
   "mimetype": "text/x-python",
   "name": "python",
   "nbconvert_exporter": "python",
   "pygments_lexer": "ipython3",
   "version": "3.11.7"
  }
 },
 "nbformat": 4,
 "nbformat_minor": 5
}
